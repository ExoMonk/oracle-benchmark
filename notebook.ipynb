{
 "cells": [
  {
   "cell_type": "markdown",
   "metadata": {},
   "source": [
    "# **Oracle Benchmarking** : Empiric Network vs ChainLink\n",
    "\n",
    "Focusing on LUNA crash period : May 6 to May 25"
   ]
  },
  {
   "cell_type": "code",
   "execution_count": 1,
   "metadata": {},
   "outputs": [],
   "source": [
    "from dotenv import load_dotenv\n",
    "load_dotenv()\n",
    "import os\n",
    "import json\n",
    "\n",
    "from src.pipeline import EmpiricLoader"
   ]
  },
  {
   "cell_type": "markdown",
   "metadata": {},
   "source": [
    "## Empiric Network Data Retrieval\n",
    "\n",
    "We will use both StarkNet Sequencer & a synced Node running Pathfinder to retrieve data. Not that it is not yet \"verifyable\" since there's no P2P syncing between StarkNet nodes yet -> Therefore it's unprovable getting the correct timestamp nor the correct information of a TX."
   ]
  },
  {
   "cell_type": "code",
   "execution_count": 2,
   "metadata": {},
   "outputs": [],
   "source": [
    "ENLoader = EmpiricLoader()"
   ]
  },
  {
   "cell_type": "code",
   "execution_count": 5,
   "metadata": {},
   "outputs": [],
   "source": [
    "ENLoader.transactions.to_csv('empiric_tx.csv')"
   ]
  },
  {
   "cell_type": "code",
   "execution_count": 8,
   "metadata": {},
   "outputs": [],
   "source": [
    "from ctc.protocols import chainlink_utils\n",
    "feed = '0x91e9331556ed76c9393055719986409e11b56f73'\n"
   ]
  },
  {
   "cell_type": "code",
   "execution_count": 9,
   "metadata": {},
   "outputs": [
    {
     "ename": "Exception",
     "evalue": "no default provider specified for network 1",
     "output_type": "error",
     "traceback": [
      "\u001b[0;31m---------------------------------------------------------------------------\u001b[0m",
      "\u001b[0;31mException\u001b[0m                                 Traceback (most recent call last)",
      "Cell \u001b[0;32mIn [9], line 1\u001b[0m\n\u001b[0;32m----> 1\u001b[0m data \u001b[38;5;241m=\u001b[39m \u001b[38;5;28;01mawait\u001b[39;00m chainlink_utils\u001b[38;5;241m.\u001b[39masync_get_feed_data(feed)\n",
      "File \u001b[0;32m~/Documents/ODA/cairo_venv/lib/python3.8/site-packages/ctc/protocols/chainlink_utils/chainlink_data/feed_data.py:80\u001b[0m, in \u001b[0;36masync_get_feed_data\u001b[0;34m(feed, fields, blocks, start_block, end_block, start_time, end_time, invert, normalize, interpolate, provider)\u001b[0m\n\u001b[1;32m     77\u001b[0m \u001b[39mif\u001b[39;00m blocks \u001b[39mis\u001b[39;00m \u001b[39mNone\u001b[39;00m:\n\u001b[1;32m     78\u001b[0m     \u001b[39mif\u001b[39;00m start_block \u001b[39mis\u001b[39;00m \u001b[39mNone\u001b[39;00m:\n\u001b[1;32m     79\u001b[0m         start_block \u001b[39m=\u001b[39m (\n\u001b[0;32m---> 80\u001b[0m             \u001b[39mawait\u001b[39;00m chainlink_feed_metadata\u001b[39m.\u001b[39masync_get_feed_first_block(\n\u001b[1;32m     81\u001b[0m                 feed\u001b[39m=\u001b[39mfeed,\n\u001b[1;32m     82\u001b[0m                 provider\u001b[39m=\u001b[39mprovider,\n\u001b[1;32m     83\u001b[0m             )\n\u001b[1;32m     84\u001b[0m         )\n\u001b[1;32m     85\u001b[0m     \u001b[39mif\u001b[39;00m end_block \u001b[39mis\u001b[39;00m \u001b[39mNone\u001b[39;00m:\n\u001b[1;32m     86\u001b[0m         end_block \u001b[39m=\u001b[39m \u001b[39m'\u001b[39m\u001b[39mlatest\u001b[39m\u001b[39m'\u001b[39m\n",
      "File \u001b[0;32m~/Documents/ODA/cairo_venv/lib/python3.8/site-packages/ctc/protocols/chainlink_utils/chainlink_feed_metadata.py:142\u001b[0m, in \u001b[0;36masync_get_feed_first_block\u001b[0;34m(feed, provider, start_search, end_search, verbose)\u001b[0m\n\u001b[1;32m    131\u001b[0m \u001b[39masync\u001b[39;00m \u001b[39mdef\u001b[39;00m \u001b[39masync_get_feed_first_block\u001b[39m(\n\u001b[1;32m    132\u001b[0m     feed: chainlink_spec\u001b[39m.\u001b[39m_FeedReference,\n\u001b[1;32m    133\u001b[0m     \u001b[39m*\u001b[39m,\n\u001b[0;32m   (...)\u001b[0m\n\u001b[1;32m    137\u001b[0m     verbose: \u001b[39mbool\u001b[39m \u001b[39m=\u001b[39m \u001b[39mFalse\u001b[39;00m,\n\u001b[1;32m    138\u001b[0m ) \u001b[39m-\u001b[39m\u001b[39m>\u001b[39m \u001b[39mint\u001b[39m:\n\u001b[1;32m    140\u001b[0m     feed \u001b[39m=\u001b[39m \u001b[39mawait\u001b[39;00m async_resolve_feed_address(feed, provider\u001b[39m=\u001b[39mprovider)\n\u001b[0;32m--> 142\u001b[0m     creation_block \u001b[39m=\u001b[39m \u001b[39mawait\u001b[39;00m evm\u001b[39m.\u001b[39masync_get_contract_creation_block(\n\u001b[1;32m    143\u001b[0m         contract_address\u001b[39m=\u001b[39mfeed,\n\u001b[1;32m    144\u001b[0m         start_block\u001b[39m=\u001b[39mstart_search,\n\u001b[1;32m    145\u001b[0m         end_block\u001b[39m=\u001b[39mend_search,\n\u001b[1;32m    146\u001b[0m         verbose\u001b[39m=\u001b[39mverbose,\n\u001b[1;32m    147\u001b[0m     )\n\u001b[1;32m    149\u001b[0m     \u001b[39mif\u001b[39;00m creation_block \u001b[39mis\u001b[39;00m \u001b[39mNone\u001b[39;00m:\n\u001b[1;32m    150\u001b[0m         \u001b[39mraise\u001b[39;00m \u001b[39mException\u001b[39;00m(\u001b[39m'\u001b[39m\u001b[39mcould not determine creation_block for feed\u001b[39m\u001b[39m'\u001b[39m)\n",
      "File \u001b[0;32m~/Documents/ODA/cairo_venv/lib/python3.8/site-packages/ctc/evm/block_utils/block_creations.py:25\u001b[0m, in \u001b[0;36masync_get_contract_creation_block\u001b[0;34m(contract_address, provider, use_db, **search_kwargs)\u001b[0m\n\u001b[1;32m     17\u001b[0m \u001b[39m\"\"\"get block number of when contract was created\u001b[39;00m\n\u001b[1;32m     18\u001b[0m \n\u001b[1;32m     19\u001b[0m \u001b[39m- behavior is undefined for functions that have undergone SELF-DESTRUCT(S)\u001b[39;00m\n\u001b[1;32m     20\u001b[0m \u001b[39m- caches result in local database\u001b[39;00m\n\u001b[1;32m     21\u001b[0m \u001b[39m\"\"\"\u001b[39;00m\n\u001b[1;32m     23\u001b[0m \u001b[39mfrom\u001b[39;00m \u001b[39mctc\u001b[39;00m \u001b[39mimport\u001b[39;00m rpc\n\u001b[0;32m---> 25\u001b[0m network \u001b[39m=\u001b[39m rpc\u001b[39m.\u001b[39;49mget_provider_network(provider)\n\u001b[1;32m     27\u001b[0m \u001b[39mif\u001b[39;00m use_db:\n\u001b[1;32m     28\u001b[0m     \u001b[39mfrom\u001b[39;00m \u001b[39mctc\u001b[39;00m \u001b[39mimport\u001b[39;00m db\n",
      "File \u001b[0;32m~/Documents/ODA/cairo_venv/lib/python3.8/site-packages/ctc/rpc/rpc_provider.py:97\u001b[0m, in \u001b[0;36mget_provider_network\u001b[0;34m(provider)\u001b[0m\n\u001b[1;32m     91\u001b[0m \u001b[39mdef\u001b[39;00m \u001b[39mget_provider_network\u001b[39m(provider: spec\u001b[39m.\u001b[39mProviderReference) \u001b[39m-\u001b[39m\u001b[39m>\u001b[39m spec\u001b[39m.\u001b[39mChainId:\n\u001b[1;32m     92\u001b[0m     \u001b[39mif\u001b[39;00m (\n\u001b[1;32m     93\u001b[0m         provider \u001b[39mis\u001b[39;00m \u001b[39mNone\u001b[39;00m\n\u001b[1;32m     94\u001b[0m         \u001b[39mor\u001b[39;00m \u001b[39misinstance\u001b[39m(provider, \u001b[39mstr\u001b[39m)\n\u001b[1;32m     95\u001b[0m         \u001b[39mor\u001b[39;00m \u001b[39m'\u001b[39m\u001b[39mnetwork\u001b[39m\u001b[39m'\u001b[39m \u001b[39mnot\u001b[39;00m \u001b[39min\u001b[39;00m provider\n\u001b[1;32m     96\u001b[0m     ):\n\u001b[0;32m---> 97\u001b[0m         provider \u001b[39m=\u001b[39m get_provider(provider)\n\u001b[1;32m     99\u001b[0m     network \u001b[39m=\u001b[39m provider\u001b[39m.\u001b[39mget(\u001b[39m'\u001b[39m\u001b[39mnetwork\u001b[39m\u001b[39m'\u001b[39m)\n\u001b[1;32m    100\u001b[0m     \u001b[39mif\u001b[39;00m network \u001b[39mis\u001b[39;00m \u001b[39mnot\u001b[39;00m \u001b[39mNone\u001b[39;00m:\n",
      "File \u001b[0;32m~/Documents/ODA/cairo_venv/lib/python3.8/site-packages/ctc/rpc/rpc_provider.py:15\u001b[0m, in \u001b[0;36mget_provider\u001b[0;34m(provider)\u001b[0m\n\u001b[1;32m     10\u001b[0m \u001b[39mdef\u001b[39;00m \u001b[39mget_provider\u001b[39m(provider: spec\u001b[39m.\u001b[39mProviderReference \u001b[39m=\u001b[39m \u001b[39mNone\u001b[39;00m) \u001b[39m-\u001b[39m\u001b[39m>\u001b[39m spec\u001b[39m.\u001b[39mProvider:\n\u001b[1;32m     12\u001b[0m     \u001b[39mif\u001b[39;00m provider \u001b[39mis\u001b[39;00m \u001b[39mNone\u001b[39;00m:\n\u001b[1;32m     13\u001b[0m \n\u001b[1;32m     14\u001b[0m         \u001b[39m# case: return default provider\u001b[39;00m\n\u001b[0;32m---> 15\u001b[0m         \u001b[39mreturn\u001b[39;00m ctc\u001b[39m.\u001b[39;49mconfig\u001b[39m.\u001b[39;49mget_default_provider()\n\u001b[1;32m     17\u001b[0m     \u001b[39melif\u001b[39;00m \u001b[39misinstance\u001b[39m(provider, \u001b[39mstr\u001b[39m):\n\u001b[1;32m     18\u001b[0m \n\u001b[1;32m     19\u001b[0m         \u001b[39m# case: provider specified as url\u001b[39;00m\n\u001b[1;32m     20\u001b[0m         \u001b[39mif\u001b[39;00m provider\u001b[39m.\u001b[39mstartswith(\u001b[39m'\u001b[39m\u001b[39mhttp\u001b[39m\u001b[39m'\u001b[39m):\n",
      "File \u001b[0;32m~/Documents/ODA/cairo_venv/lib/python3.8/site-packages/ctc/config/config_values.py:165\u001b[0m, in \u001b[0;36mget_default_provider\u001b[0;34m(network)\u001b[0m\n\u001b[1;32m    163\u001b[0m \u001b[39melse\u001b[39;00m:\n\u001b[1;32m    164\u001b[0m     message \u001b[39m=\u001b[39m \u001b[39m'\u001b[39m\u001b[39mno default provider specified for network \u001b[39m\u001b[39m'\u001b[39m \u001b[39m+\u001b[39m \u001b[39mstr\u001b[39m(network)\n\u001b[0;32m--> 165\u001b[0m     \u001b[39mraise\u001b[39;00m \u001b[39mException\u001b[39;00m(message)\n",
      "\u001b[0;31mException\u001b[0m: no default provider specified for network 1"
     ]
    }
   ],
   "source": [
    "data = await chainlink_utils.async_get_feed_data(feed)"
   ]
  },
  {
   "cell_type": "code",
   "execution_count": null,
   "metadata": {},
   "outputs": [],
   "source": []
  }
 ],
 "metadata": {
  "kernelspec": {
   "display_name": "Python 3.8.13 ('cairo_venv': venv)",
   "language": "python",
   "name": "python3"
  },
  "language_info": {
   "codemirror_mode": {
    "name": "ipython",
    "version": 3
   },
   "file_extension": ".py",
   "mimetype": "text/x-python",
   "name": "python",
   "nbconvert_exporter": "python",
   "pygments_lexer": "ipython3",
   "version": "3.8.13"
  },
  "orig_nbformat": 4,
  "vscode": {
   "interpreter": {
    "hash": "00e6eb6dd223f24124b3e0aab30d95fd2add79aced50af4b20174984c231568e"
   }
  }
 },
 "nbformat": 4,
 "nbformat_minor": 2
}
