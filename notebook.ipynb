{
 "cells": [
  {
   "cell_type": "markdown",
   "metadata": {},
   "source": [
    "# **Oracle Benchmarking** : Empiric Network vs ChainLink\n",
    "\n",
    "Focusing on LUNA crash period : May 6 to May 25"
   ]
  },
  {
   "cell_type": "code",
   "execution_count": 2,
   "metadata": {},
   "outputs": [],
   "source": [
    "from dotenv import load_dotenv\n",
    "load_dotenv()\n",
    "\n",
    "import os\n",
    "import json\n",
    "\n",
    "from src.node import NodeRequester\n",
    "from src.utils import get_selector_from_name"
   ]
  },
  {
   "cell_type": "markdown",
   "metadata": {},
   "source": [
    "## Empiric Network Data Retrieval\n",
    "\n",
    "We will use both StarkNet Sequencer & a synced Node running Pathfinder to retrieve data. Not that it is not yet \"verifyable\" since there's no P2P syncing between StarkNet nodes yet -> Therefore it's unprovable getting the correct timestamp nor the correct information of a TX."
   ]
  },
  {
   "cell_type": "code",
   "execution_count": 6,
   "metadata": {},
   "outputs": [],
   "source": [
    "sequencer_requester = NodeRequester(os.environ.get('STARKNET_SEQUENCER_URL'))\n",
    "node_requester = NodeRequester(os.environ.get('STARKNET_NODE_URL'))"
   ]
  },
  {
   "cell_type": "code",
   "execution_count": null,
   "metadata": {},
   "outputs": [],
   "source": []
  },
  {
   "cell_type": "code",
   "execution_count": null,
   "metadata": {},
   "outputs": [],
   "source": []
  }
 ],
 "metadata": {
  "kernelspec": {
   "display_name": "Python 3.8.13 ('cairo_venv': venv)",
   "language": "python",
   "name": "python3"
  },
  "language_info": {
   "codemirror_mode": {
    "name": "ipython",
    "version": 3
   },
   "file_extension": ".py",
   "mimetype": "text/x-python",
   "name": "python",
   "nbconvert_exporter": "python",
   "pygments_lexer": "ipython3",
   "version": "3.8.13"
  },
  "orig_nbformat": 4,
  "vscode": {
   "interpreter": {
    "hash": "00e6eb6dd223f24124b3e0aab30d95fd2add79aced50af4b20174984c231568e"
   }
  }
 },
 "nbformat": 4,
 "nbformat_minor": 2
}
