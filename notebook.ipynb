{
 "cells": [
  {
   "cell_type": "markdown",
   "metadata": {},
   "source": [
    "# **Oracle Benchmarking** : Empiric Network vs ChainLink\n",
    "\n",
    "Focusing on LUNA crash period : May 6 to May 25"
   ]
  },
  {
   "cell_type": "code",
   "execution_count": 1,
   "metadata": {},
   "outputs": [],
   "source": [
    "from dotenv import load_dotenv\n",
    "load_dotenv()\n",
    "import os\n",
    "import json\n",
    "\n",
    "from ctc.protocols import chainlink_utils\n",
    "from src.utils import DataParser, get_selector_from_name, normalize_submit_many_entry, filter_feeds\n",
    "from src.pipeline import EmpiricNetworkLoader, ChainLinkLoader"
   ]
  },
  {
   "cell_type": "markdown",
   "metadata": {},
   "source": [
    "## Empiric Network Data Retrieval\n",
    "\n",
    "We will use both StarkNet Sequencer & a synced Node running Pathfinder to retrieve data. Not that it is not yet \"verifyable\" since there's no P2P syncing between StarkNet nodes yet -> Therefore it's unprovable getting the correct timestamp nor the correct information of a TX."
   ]
  },
  {
   "cell_type": "code",
   "execution_count": 23,
   "metadata": {},
   "outputs": [
    {
     "name": "stderr",
     "output_type": "stream",
     "text": [
      "/Users/exo/Documents/ODA/oracle-benchmark/src/pipeline.py:79: SettingWithCopyWarning: \n",
      "A value is trying to be set on a copy of a slice from a DataFrame.\n",
      "Try using .loc[row_indexer,col_indexer] = value instead\n",
      "\n",
      "See the caveats in the documentation: https://pandas.pydata.org/pandas-docs/stable/user_guide/indexing.html#returning-a-view-versus-a-copy\n",
      "  self.price_feeds['normalized_entry'] = self.price_feeds.apply(\n",
      "/Users/exo/Documents/ODA/oracle-benchmark/src/pipeline.py:83: SettingWithCopyWarning: \n",
      "A value is trying to be set on a copy of a slice from a DataFrame\n",
      "\n",
      "See the caveats in the documentation: https://pandas.pydata.org/pandas-docs/stable/user_guide/indexing.html#returning-a-view-versus-a-copy\n",
      "  self.price_feeds.dropna(subset=['normalized_entry'], inplace=True)\n",
      "/Users/exo/Documents/ODA/oracle-benchmark/src/pipeline.py:84: SettingWithCopyWarning: \n",
      "A value is trying to be set on a copy of a slice from a DataFrame.\n",
      "Try using .loc[row_indexer,col_indexer] = value instead\n",
      "\n",
      "See the caveats in the documentation: https://pandas.pydata.org/pandas-docs/stable/user_guide/indexing.html#returning-a-view-versus-a-copy\n",
      "  self.price_feeds['price'] = self.price_feeds.apply(\n",
      "/Users/exo/Documents/ODA/oracle-benchmark/src/pipeline.py:88: SettingWithCopyWarning: \n",
      "A value is trying to be set on a copy of a slice from a DataFrame.\n",
      "Try using .loc[row_indexer,col_indexer] = value instead\n",
      "\n",
      "See the caveats in the documentation: https://pandas.pydata.org/pandas-docs/stable/user_guide/indexing.html#returning-a-view-versus-a-copy\n",
      "  self.price_feeds['feed'] = 'luna/eth'\n"
     ]
    }
   ],
   "source": [
    "ENLoader = EmpiricNetworkLoader()"
   ]
  },
  {
   "cell_type": "code",
   "execution_count": 24,
   "metadata": {},
   "outputs": [
    {
     "data": {
      "text/html": [
       "<div>\n",
       "<style scoped>\n",
       "    .dataframe tbody tr th:only-of-type {\n",
       "        vertical-align: middle;\n",
       "    }\n",
       "\n",
       "    .dataframe tbody tr th {\n",
       "        vertical-align: top;\n",
       "    }\n",
       "\n",
       "    .dataframe thead th {\n",
       "        text-align: right;\n",
       "    }\n",
       "</style>\n",
       "<table border=\"1\" class=\"dataframe\">\n",
       "  <thead>\n",
       "    <tr style=\"text-align: right;\">\n",
       "      <th></th>\n",
       "      <th>type</th>\n",
       "      <th>transaction_hash</th>\n",
       "      <th>max_fee</th>\n",
       "      <th>version</th>\n",
       "      <th>signature</th>\n",
       "      <th>nonce</th>\n",
       "      <th>contract_address</th>\n",
       "      <th>entry_point_selector</th>\n",
       "      <th>calldata</th>\n",
       "      <th>timestamp</th>\n",
       "      <th>function_info</th>\n",
       "      <th>parsed_calldata</th>\n",
       "    </tr>\n",
       "  </thead>\n",
       "  <tbody>\n",
       "    <tr>\n",
       "      <th>0</th>\n",
       "      <td>INVOKE</td>\n",
       "      <td>0x3011775893da9c8e891090abc1a233d6ab8b03bcf6a0...</td>\n",
       "      <td>0x0</td>\n",
       "      <td>0x0</td>\n",
       "      <td>[]</td>\n",
       "      <td>0x0</td>\n",
       "      <td>0x4a05a68317edb37d34d29f34193829d7363d51a37068...</td>\n",
       "      <td>0x3451875d57805682e40d0ad8e604fc4cc5f949d14ca8...</td>\n",
       "      <td>[0x1a, 0x6574682f757364, 0x94b319d3b02e080000,...</td>\n",
       "      <td>1651788073</td>\n",
       "      <td>{'inputs': [{'name': 'new_entries_len', 'type'...</td>\n",
       "      <td>&lt;src.utils.DataParser object at 0x29af58970&gt;</td>\n",
       "    </tr>\n",
       "    <tr>\n",
       "      <th>1</th>\n",
       "      <td>INVOKE</td>\n",
       "      <td>0x16caeadd977519fc24970021bccb84ad936e12e3ec95...</td>\n",
       "      <td>0x0</td>\n",
       "      <td>0x0</td>\n",
       "      <td>[]</td>\n",
       "      <td>0x0</td>\n",
       "      <td>0x4a05a68317edb37d34d29f34193829d7363d51a37068...</td>\n",
       "      <td>0x3451875d57805682e40d0ad8e604fc4cc5f949d14ca8...</td>\n",
       "      <td>[0x1a, 0x6574682f757364, 0x948f77dc12b4780000,...</td>\n",
       "      <td>1651788333</td>\n",
       "      <td>{'inputs': [{'name': 'new_entries_len', 'type'...</td>\n",
       "      <td>&lt;src.utils.DataParser object at 0x1688a7d30&gt;</td>\n",
       "    </tr>\n",
       "  </tbody>\n",
       "</table>\n",
       "</div>"
      ],
      "text/plain": [
       "     type                                   transaction_hash max_fee version  \\\n",
       "0  INVOKE  0x3011775893da9c8e891090abc1a233d6ab8b03bcf6a0...     0x0     0x0   \n",
       "1  INVOKE  0x16caeadd977519fc24970021bccb84ad936e12e3ec95...     0x0     0x0   \n",
       "\n",
       "  signature nonce                                   contract_address  \\\n",
       "0        []   0x0  0x4a05a68317edb37d34d29f34193829d7363d51a37068...   \n",
       "1        []   0x0  0x4a05a68317edb37d34d29f34193829d7363d51a37068...   \n",
       "\n",
       "                                entry_point_selector  \\\n",
       "0  0x3451875d57805682e40d0ad8e604fc4cc5f949d14ca8...   \n",
       "1  0x3451875d57805682e40d0ad8e604fc4cc5f949d14ca8...   \n",
       "\n",
       "                                            calldata   timestamp  \\\n",
       "0  [0x1a, 0x6574682f757364, 0x94b319d3b02e080000,...  1651788073   \n",
       "1  [0x1a, 0x6574682f757364, 0x948f77dc12b4780000,...  1651788333   \n",
       "\n",
       "                                       function_info  \\\n",
       "0  {'inputs': [{'name': 'new_entries_len', 'type'...   \n",
       "1  {'inputs': [{'name': 'new_entries_len', 'type'...   \n",
       "\n",
       "                                parsed_calldata  \n",
       "0  <src.utils.DataParser object at 0x29af58970>  \n",
       "1  <src.utils.DataParser object at 0x1688a7d30>  "
      ]
     },
     "execution_count": 24,
     "metadata": {},
     "output_type": "execute_result"
    }
   ],
   "source": [
    "ENLoader.raw_transactions.head(2)"
   ]
  },
  {
   "cell_type": "code",
   "execution_count": 25,
   "metadata": {},
   "outputs": [
    {
     "data": {
      "text/html": [
       "<div>\n",
       "<style scoped>\n",
       "    .dataframe tbody tr th:only-of-type {\n",
       "        vertical-align: middle;\n",
       "    }\n",
       "\n",
       "    .dataframe tbody tr th {\n",
       "        vertical-align: top;\n",
       "    }\n",
       "\n",
       "    .dataframe thead th {\n",
       "        text-align: right;\n",
       "    }\n",
       "</style>\n",
       "<table border=\"1\" class=\"dataframe\">\n",
       "  <thead>\n",
       "    <tr style=\"text-align: right;\">\n",
       "      <th></th>\n",
       "      <th>timestamp</th>\n",
       "      <th>price</th>\n",
       "      <th>feed</th>\n",
       "    </tr>\n",
       "  </thead>\n",
       "  <tbody>\n",
       "    <tr>\n",
       "      <th>0</th>\n",
       "      <td>1651788073</td>\n",
       "      <td>3.006213e-02</td>\n",
       "      <td>luna/eth</td>\n",
       "    </tr>\n",
       "    <tr>\n",
       "      <th>1</th>\n",
       "      <td>1651788333</td>\n",
       "      <td>3.016095e-02</td>\n",
       "      <td>luna/eth</td>\n",
       "    </tr>\n",
       "    <tr>\n",
       "      <th>2</th>\n",
       "      <td>1651788644</td>\n",
       "      <td>3.029866e-02</td>\n",
       "      <td>luna/eth</td>\n",
       "    </tr>\n",
       "    <tr>\n",
       "      <th>3</th>\n",
       "      <td>1651789012</td>\n",
       "      <td>3.029951e-02</td>\n",
       "      <td>luna/eth</td>\n",
       "    </tr>\n",
       "    <tr>\n",
       "      <th>4</th>\n",
       "      <td>1651789283</td>\n",
       "      <td>3.026009e-02</td>\n",
       "      <td>luna/eth</td>\n",
       "    </tr>\n",
       "    <tr>\n",
       "      <th>...</th>\n",
       "      <td>...</td>\n",
       "      <td>...</td>\n",
       "      <td>...</td>\n",
       "    </tr>\n",
       "    <tr>\n",
       "      <th>57472</th>\n",
       "      <td>1653601741</td>\n",
       "      <td>7.327244e-08</td>\n",
       "      <td>luna/eth</td>\n",
       "    </tr>\n",
       "    <tr>\n",
       "      <th>57473</th>\n",
       "      <td>1653601902</td>\n",
       "      <td>7.341559e-08</td>\n",
       "      <td>luna/eth</td>\n",
       "    </tr>\n",
       "    <tr>\n",
       "      <th>57474</th>\n",
       "      <td>1653602019</td>\n",
       "      <td>7.350528e-08</td>\n",
       "      <td>luna/eth</td>\n",
       "    </tr>\n",
       "    <tr>\n",
       "      <th>57475</th>\n",
       "      <td>1653602165</td>\n",
       "      <td>7.209940e-08</td>\n",
       "      <td>luna/eth</td>\n",
       "    </tr>\n",
       "    <tr>\n",
       "      <th>57476</th>\n",
       "      <td>1653602291</td>\n",
       "      <td>7.207267e-08</td>\n",
       "      <td>luna/eth</td>\n",
       "    </tr>\n",
       "  </tbody>\n",
       "</table>\n",
       "<p>8728 rows × 3 columns</p>\n",
       "</div>"
      ],
      "text/plain": [
       "        timestamp         price      feed\n",
       "0      1651788073  3.006213e-02  luna/eth\n",
       "1      1651788333  3.016095e-02  luna/eth\n",
       "2      1651788644  3.029866e-02  luna/eth\n",
       "3      1651789012  3.029951e-02  luna/eth\n",
       "4      1651789283  3.026009e-02  luna/eth\n",
       "...           ...           ...       ...\n",
       "57472  1653601741  7.327244e-08  luna/eth\n",
       "57473  1653601902  7.341559e-08  luna/eth\n",
       "57474  1653602019  7.350528e-08  luna/eth\n",
       "57475  1653602165  7.209940e-08  luna/eth\n",
       "57476  1653602291  7.207267e-08  luna/eth\n",
       "\n",
       "[8728 rows x 3 columns]"
      ]
     },
     "execution_count": 25,
     "metadata": {},
     "output_type": "execute_result"
    }
   ],
   "source": [
    "ENLoader.price_feeds"
   ]
  },
  {
   "cell_type": "markdown",
   "metadata": {},
   "source": [
    "## ChainLink Data Retrieval\n",
    "\n",
    "We will use a node to get dedicated Events for the LUNA / ETH feed (there's no LUNA / USD feed)."
   ]
  },
  {
   "cell_type": "code",
   "execution_count": 26,
   "metadata": {},
   "outputs": [],
   "source": [
    "CLLoader = await ChainLinkLoader()"
   ]
  },
  {
   "cell_type": "code",
   "execution_count": 27,
   "metadata": {},
   "outputs": [
    {
     "data": {
      "text/html": [
       "<div>\n",
       "<style scoped>\n",
       "    .dataframe tbody tr th:only-of-type {\n",
       "        vertical-align: middle;\n",
       "    }\n",
       "\n",
       "    .dataframe tbody tr th {\n",
       "        vertical-align: top;\n",
       "    }\n",
       "\n",
       "    .dataframe thead th {\n",
       "        text-align: right;\n",
       "    }\n",
       "</style>\n",
       "<table border=\"1\" class=\"dataframe\">\n",
       "  <thead>\n",
       "    <tr style=\"text-align: right;\">\n",
       "      <th></th>\n",
       "      <th>block_number</th>\n",
       "      <th>transaction_index</th>\n",
       "      <th>log_index</th>\n",
       "      <th>address</th>\n",
       "      <th>block_hash</th>\n",
       "      <th>transaction_hash</th>\n",
       "      <th>contract_address</th>\n",
       "      <th>event_name</th>\n",
       "      <th>event_hash</th>\n",
       "      <th>arg__current</th>\n",
       "      <th>arg__roundId</th>\n",
       "      <th>arg__updatedAt</th>\n",
       "    </tr>\n",
       "  </thead>\n",
       "  <tbody>\n",
       "    <tr>\n",
       "      <th>0</th>\n",
       "      <td>14721064</td>\n",
       "      <td>23</td>\n",
       "      <td>31</td>\n",
       "      <td>0x1a8ac67a1b64f7fd71bb91c21581f036abe6aec2</td>\n",
       "      <td>0xc66712513667503e85e377eb0ee823acc2d0213a2a65...</td>\n",
       "      <td>0x2caddb79c3cf9d375cf40e22ab709576542b064ab400...</td>\n",
       "      <td>0x1a8ac67a1b64f7fd71bb91c21581f036abe6aec2</td>\n",
       "      <td>AnswerUpdated</td>\n",
       "      <td>0x0559884fd3a460db3073b7fc896cc77986f16e378210...</td>\n",
       "      <td>29525410408662240</td>\n",
       "      <td>1293</td>\n",
       "      <td>1651806255</td>\n",
       "    </tr>\n",
       "    <tr>\n",
       "      <th>1</th>\n",
       "      <td>14726397</td>\n",
       "      <td>94</td>\n",
       "      <td>125</td>\n",
       "      <td>0x1a8ac67a1b64f7fd71bb91c21581f036abe6aec2</td>\n",
       "      <td>0xeae18414cd27f8a3ee58e07804d2fbc7c998635d10fc...</td>\n",
       "      <td>0xe227f918d4c70ae1065253e62ccb1b712f0e4c281957...</td>\n",
       "      <td>0x1a8ac67a1b64f7fd71bb91c21581f036abe6aec2</td>\n",
       "      <td>AnswerUpdated</td>\n",
       "      <td>0x0559884fd3a460db3073b7fc896cc77986f16e378210...</td>\n",
       "      <td>28909806872610724</td>\n",
       "      <td>1294</td>\n",
       "      <td>1651879141</td>\n",
       "    </tr>\n",
       "    <tr>\n",
       "      <th>2</th>\n",
       "      <td>14727610</td>\n",
       "      <td>44</td>\n",
       "      <td>36</td>\n",
       "      <td>0x1a8ac67a1b64f7fd71bb91c21581f036abe6aec2</td>\n",
       "      <td>0xcc779d093bf4a908a5ec7f00af26de51a0db8168696e...</td>\n",
       "      <td>0x5b09ad9ee5fd974d046c845eb6d30c85534288e96081...</td>\n",
       "      <td>0x1a8ac67a1b64f7fd71bb91c21581f036abe6aec2</td>\n",
       "      <td>AnswerUpdated</td>\n",
       "      <td>0x0559884fd3a460db3073b7fc896cc77986f16e378210...</td>\n",
       "      <td>28312498091524703</td>\n",
       "      <td>1295</td>\n",
       "      <td>1651896119</td>\n",
       "    </tr>\n",
       "    <tr>\n",
       "      <th>3</th>\n",
       "      <td>14727696</td>\n",
       "      <td>36</td>\n",
       "      <td>45</td>\n",
       "      <td>0x1a8ac67a1b64f7fd71bb91c21581f036abe6aec2</td>\n",
       "      <td>0x39d047dfc5889536772b903a9bf93c0472bd0e2e00b9...</td>\n",
       "      <td>0x8ba10d0269c30f34c5ef0364a8141a732a1e14610d37...</td>\n",
       "      <td>0x1a8ac67a1b64f7fd71bb91c21581f036abe6aec2</td>\n",
       "      <td>AnswerUpdated</td>\n",
       "      <td>0x0559884fd3a460db3073b7fc896cc77986f16e378210...</td>\n",
       "      <td>27695020000000000</td>\n",
       "      <td>1296</td>\n",
       "      <td>1651897383</td>\n",
       "    </tr>\n",
       "    <tr>\n",
       "      <th>4</th>\n",
       "      <td>14731234</td>\n",
       "      <td>74</td>\n",
       "      <td>156</td>\n",
       "      <td>0x1a8ac67a1b64f7fd71bb91c21581f036abe6aec2</td>\n",
       "      <td>0xb5369a9635b29294c189a6db2683dfebe4d1b84f9394...</td>\n",
       "      <td>0x879d12a6f7edf0a8ad11e391e95ebaa050f4d26cdd7e...</td>\n",
       "      <td>0x1a8ac67a1b64f7fd71bb91c21581f036abe6aec2</td>\n",
       "      <td>AnswerUpdated</td>\n",
       "      <td>0x0559884fd3a460db3073b7fc896cc77986f16e378210...</td>\n",
       "      <td>27138650461100180</td>\n",
       "      <td>1297</td>\n",
       "      <td>1651945957</td>\n",
       "    </tr>\n",
       "  </tbody>\n",
       "</table>\n",
       "</div>"
      ],
      "text/plain": [
       "   block_number  transaction_index  log_index  \\\n",
       "0      14721064                 23         31   \n",
       "1      14726397                 94        125   \n",
       "2      14727610                 44         36   \n",
       "3      14727696                 36         45   \n",
       "4      14731234                 74        156   \n",
       "\n",
       "                                      address  \\\n",
       "0  0x1a8ac67a1b64f7fd71bb91c21581f036abe6aec2   \n",
       "1  0x1a8ac67a1b64f7fd71bb91c21581f036abe6aec2   \n",
       "2  0x1a8ac67a1b64f7fd71bb91c21581f036abe6aec2   \n",
       "3  0x1a8ac67a1b64f7fd71bb91c21581f036abe6aec2   \n",
       "4  0x1a8ac67a1b64f7fd71bb91c21581f036abe6aec2   \n",
       "\n",
       "                                          block_hash  \\\n",
       "0  0xc66712513667503e85e377eb0ee823acc2d0213a2a65...   \n",
       "1  0xeae18414cd27f8a3ee58e07804d2fbc7c998635d10fc...   \n",
       "2  0xcc779d093bf4a908a5ec7f00af26de51a0db8168696e...   \n",
       "3  0x39d047dfc5889536772b903a9bf93c0472bd0e2e00b9...   \n",
       "4  0xb5369a9635b29294c189a6db2683dfebe4d1b84f9394...   \n",
       "\n",
       "                                    transaction_hash  \\\n",
       "0  0x2caddb79c3cf9d375cf40e22ab709576542b064ab400...   \n",
       "1  0xe227f918d4c70ae1065253e62ccb1b712f0e4c281957...   \n",
       "2  0x5b09ad9ee5fd974d046c845eb6d30c85534288e96081...   \n",
       "3  0x8ba10d0269c30f34c5ef0364a8141a732a1e14610d37...   \n",
       "4  0x879d12a6f7edf0a8ad11e391e95ebaa050f4d26cdd7e...   \n",
       "\n",
       "                             contract_address     event_name  \\\n",
       "0  0x1a8ac67a1b64f7fd71bb91c21581f036abe6aec2  AnswerUpdated   \n",
       "1  0x1a8ac67a1b64f7fd71bb91c21581f036abe6aec2  AnswerUpdated   \n",
       "2  0x1a8ac67a1b64f7fd71bb91c21581f036abe6aec2  AnswerUpdated   \n",
       "3  0x1a8ac67a1b64f7fd71bb91c21581f036abe6aec2  AnswerUpdated   \n",
       "4  0x1a8ac67a1b64f7fd71bb91c21581f036abe6aec2  AnswerUpdated   \n",
       "\n",
       "                                          event_hash       arg__current  \\\n",
       "0  0x0559884fd3a460db3073b7fc896cc77986f16e378210...  29525410408662240   \n",
       "1  0x0559884fd3a460db3073b7fc896cc77986f16e378210...  28909806872610724   \n",
       "2  0x0559884fd3a460db3073b7fc896cc77986f16e378210...  28312498091524703   \n",
       "3  0x0559884fd3a460db3073b7fc896cc77986f16e378210...  27695020000000000   \n",
       "4  0x0559884fd3a460db3073b7fc896cc77986f16e378210...  27138650461100180   \n",
       "\n",
       "   arg__roundId  arg__updatedAt  \n",
       "0          1293      1651806255  \n",
       "1          1294      1651879141  \n",
       "2          1295      1651896119  \n",
       "3          1296      1651897383  \n",
       "4          1297      1651945957  "
      ]
     },
     "execution_count": 27,
     "metadata": {},
     "output_type": "execute_result"
    }
   ],
   "source": [
    "CLLoader.raw_transactions.head()"
   ]
  },
  {
   "cell_type": "code",
   "execution_count": 28,
   "metadata": {},
   "outputs": [
    {
     "data": {
      "text/html": [
       "<div>\n",
       "<style scoped>\n",
       "    .dataframe tbody tr th:only-of-type {\n",
       "        vertical-align: middle;\n",
       "    }\n",
       "\n",
       "    .dataframe tbody tr th {\n",
       "        vertical-align: top;\n",
       "    }\n",
       "\n",
       "    .dataframe thead th {\n",
       "        text-align: right;\n",
       "    }\n",
       "</style>\n",
       "<table border=\"1\" class=\"dataframe\">\n",
       "  <thead>\n",
       "    <tr style=\"text-align: right;\">\n",
       "      <th></th>\n",
       "      <th>price</th>\n",
       "      <th>timestamp</th>\n",
       "      <th>feed</th>\n",
       "    </tr>\n",
       "  </thead>\n",
       "  <tbody>\n",
       "    <tr>\n",
       "      <th>0</th>\n",
       "      <td>2.952541e-02</td>\n",
       "      <td>1651806255</td>\n",
       "      <td>luna/eth</td>\n",
       "    </tr>\n",
       "    <tr>\n",
       "      <th>1</th>\n",
       "      <td>2.890981e-02</td>\n",
       "      <td>1651879141</td>\n",
       "      <td>luna/eth</td>\n",
       "    </tr>\n",
       "    <tr>\n",
       "      <th>2</th>\n",
       "      <td>2.831250e-02</td>\n",
       "      <td>1651896119</td>\n",
       "      <td>luna/eth</td>\n",
       "    </tr>\n",
       "    <tr>\n",
       "      <th>3</th>\n",
       "      <td>2.769502e-02</td>\n",
       "      <td>1651897383</td>\n",
       "      <td>luna/eth</td>\n",
       "    </tr>\n",
       "    <tr>\n",
       "      <th>4</th>\n",
       "      <td>2.713865e-02</td>\n",
       "      <td>1651945957</td>\n",
       "      <td>luna/eth</td>\n",
       "    </tr>\n",
       "    <tr>\n",
       "      <th>...</th>\n",
       "      <td>...</td>\n",
       "      <td>...</td>\n",
       "      <td>...</td>\n",
       "    </tr>\n",
       "    <tr>\n",
       "      <th>3090</th>\n",
       "      <td>7.983700e-08</td>\n",
       "      <td>1653606091</td>\n",
       "      <td>luna/eth</td>\n",
       "    </tr>\n",
       "    <tr>\n",
       "      <th>3091</th>\n",
       "      <td>7.811800e-08</td>\n",
       "      <td>1653606336</td>\n",
       "      <td>luna/eth</td>\n",
       "    </tr>\n",
       "    <tr>\n",
       "      <th>3092</th>\n",
       "      <td>8.022700e-08</td>\n",
       "      <td>1653606420</td>\n",
       "      <td>luna/eth</td>\n",
       "    </tr>\n",
       "    <tr>\n",
       "      <th>3093</th>\n",
       "      <td>8.249302e-08</td>\n",
       "      <td>1653606793</td>\n",
       "      <td>luna/eth</td>\n",
       "    </tr>\n",
       "    <tr>\n",
       "      <th>3094</th>\n",
       "      <td>8.511800e-08</td>\n",
       "      <td>1653607187</td>\n",
       "      <td>luna/eth</td>\n",
       "    </tr>\n",
       "  </tbody>\n",
       "</table>\n",
       "<p>3095 rows × 3 columns</p>\n",
       "</div>"
      ],
      "text/plain": [
       "             price   timestamp      feed\n",
       "0     2.952541e-02  1651806255  luna/eth\n",
       "1     2.890981e-02  1651879141  luna/eth\n",
       "2     2.831250e-02  1651896119  luna/eth\n",
       "3     2.769502e-02  1651897383  luna/eth\n",
       "4     2.713865e-02  1651945957  luna/eth\n",
       "...            ...         ...       ...\n",
       "3090  7.983700e-08  1653606091  luna/eth\n",
       "3091  7.811800e-08  1653606336  luna/eth\n",
       "3092  8.022700e-08  1653606420  luna/eth\n",
       "3093  8.249302e-08  1653606793  luna/eth\n",
       "3094  8.511800e-08  1653607187  luna/eth\n",
       "\n",
       "[3095 rows x 3 columns]"
      ]
     },
     "execution_count": 28,
     "metadata": {},
     "output_type": "execute_result"
    }
   ],
   "source": [
    "CLLoader.price_feeds"
   ]
  },
  {
   "cell_type": "markdown",
   "metadata": {},
   "source": [
    "## Empiric VS ChainLink"
   ]
  },
  {
   "cell_type": "code",
   "execution_count": 29,
   "metadata": {},
   "outputs": [
    {
     "data": {
      "text/html": [
       "<div>\n",
       "<style scoped>\n",
       "    .dataframe tbody tr th:only-of-type {\n",
       "        vertical-align: middle;\n",
       "    }\n",
       "\n",
       "    .dataframe tbody tr th {\n",
       "        vertical-align: top;\n",
       "    }\n",
       "\n",
       "    .dataframe thead th {\n",
       "        text-align: right;\n",
       "    }\n",
       "</style>\n",
       "<table border=\"1\" class=\"dataframe\">\n",
       "  <thead>\n",
       "    <tr style=\"text-align: right;\">\n",
       "      <th></th>\n",
       "      <th>timestamp</th>\n",
       "      <th>price</th>\n",
       "      <th>feed</th>\n",
       "    </tr>\n",
       "  </thead>\n",
       "  <tbody>\n",
       "    <tr>\n",
       "      <th>0</th>\n",
       "      <td>1651788073</td>\n",
       "      <td>0.030062</td>\n",
       "      <td>luna/eth</td>\n",
       "    </tr>\n",
       "    <tr>\n",
       "      <th>1</th>\n",
       "      <td>1651788333</td>\n",
       "      <td>0.030161</td>\n",
       "      <td>luna/eth</td>\n",
       "    </tr>\n",
       "    <tr>\n",
       "      <th>2</th>\n",
       "      <td>1651788644</td>\n",
       "      <td>0.030299</td>\n",
       "      <td>luna/eth</td>\n",
       "    </tr>\n",
       "    <tr>\n",
       "      <th>3</th>\n",
       "      <td>1651789012</td>\n",
       "      <td>0.030300</td>\n",
       "      <td>luna/eth</td>\n",
       "    </tr>\n",
       "    <tr>\n",
       "      <th>4</th>\n",
       "      <td>1651789283</td>\n",
       "      <td>0.030260</td>\n",
       "      <td>luna/eth</td>\n",
       "    </tr>\n",
       "  </tbody>\n",
       "</table>\n",
       "</div>"
      ],
      "text/plain": [
       "    timestamp     price      feed\n",
       "0  1651788073  0.030062  luna/eth\n",
       "1  1651788333  0.030161  luna/eth\n",
       "2  1651788644  0.030299  luna/eth\n",
       "3  1651789012  0.030300  luna/eth\n",
       "4  1651789283  0.030260  luna/eth"
      ]
     },
     "execution_count": 29,
     "metadata": {},
     "output_type": "execute_result"
    }
   ],
   "source": [
    "ENLoader.price_feeds.head()"
   ]
  },
  {
   "cell_type": "code",
   "execution_count": 30,
   "metadata": {},
   "outputs": [
    {
     "data": {
      "text/html": [
       "<div>\n",
       "<style scoped>\n",
       "    .dataframe tbody tr th:only-of-type {\n",
       "        vertical-align: middle;\n",
       "    }\n",
       "\n",
       "    .dataframe tbody tr th {\n",
       "        vertical-align: top;\n",
       "    }\n",
       "\n",
       "    .dataframe thead th {\n",
       "        text-align: right;\n",
       "    }\n",
       "</style>\n",
       "<table border=\"1\" class=\"dataframe\">\n",
       "  <thead>\n",
       "    <tr style=\"text-align: right;\">\n",
       "      <th></th>\n",
       "      <th>price</th>\n",
       "      <th>timestamp</th>\n",
       "      <th>feed</th>\n",
       "    </tr>\n",
       "  </thead>\n",
       "  <tbody>\n",
       "    <tr>\n",
       "      <th>0</th>\n",
       "      <td>0.029525</td>\n",
       "      <td>1651806255</td>\n",
       "      <td>luna/eth</td>\n",
       "    </tr>\n",
       "    <tr>\n",
       "      <th>1</th>\n",
       "      <td>0.028910</td>\n",
       "      <td>1651879141</td>\n",
       "      <td>luna/eth</td>\n",
       "    </tr>\n",
       "    <tr>\n",
       "      <th>2</th>\n",
       "      <td>0.028312</td>\n",
       "      <td>1651896119</td>\n",
       "      <td>luna/eth</td>\n",
       "    </tr>\n",
       "    <tr>\n",
       "      <th>3</th>\n",
       "      <td>0.027695</td>\n",
       "      <td>1651897383</td>\n",
       "      <td>luna/eth</td>\n",
       "    </tr>\n",
       "    <tr>\n",
       "      <th>4</th>\n",
       "      <td>0.027139</td>\n",
       "      <td>1651945957</td>\n",
       "      <td>luna/eth</td>\n",
       "    </tr>\n",
       "  </tbody>\n",
       "</table>\n",
       "</div>"
      ],
      "text/plain": [
       "      price   timestamp      feed\n",
       "0  0.029525  1651806255  luna/eth\n",
       "1  0.028910  1651879141  luna/eth\n",
       "2  0.028312  1651896119  luna/eth\n",
       "3  0.027695  1651897383  luna/eth\n",
       "4  0.027139  1651945957  luna/eth"
      ]
     },
     "execution_count": 30,
     "metadata": {},
     "output_type": "execute_result"
    }
   ],
   "source": [
    "CLLoader.price_feeds.head()"
   ]
  },
  {
   "cell_type": "code",
   "execution_count": null,
   "metadata": {},
   "outputs": [],
   "source": []
  },
  {
   "cell_type": "code",
   "execution_count": 31,
   "metadata": {},
   "outputs": [
    {
     "data": {
      "text/plain": [
       "<AxesSubplot: >"
      ]
     },
     "execution_count": 31,
     "metadata": {},
     "output_type": "execute_result"
    },
    {
     "data": {
      "image/png": "[encoded data removed]",
      "text/plain": [
       "<Figure size 1600x1200 with 1 Axes>"
      ]
     },
     "metadata": {},
     "output_type": "display_data"
    }
   ],
   "source": [
    "CLLoader.price_feeds.set_index('timestamp')\n",
    "CLLoader.price_feeds['price'].plot(figsize=(16, 12))"
   ]
  },
  {
   "cell_type": "code",
   "execution_count": 32,
   "metadata": {},
   "outputs": [
    {
     "data": {
      "text/plain": [
       "<AxesSubplot: >"
      ]
     },
     "execution_count": 32,
     "metadata": {},
     "output_type": "execute_result"
    },
    {
     "data": {
      "image/png": "[encoded data removed]",
      "text/plain": [
       "<Figure size 1600x1200 with 1 Axes>"
      ]
     },
     "metadata": {},
     "output_type": "display_data"
    }
   ],
   "source": [
    "ENLoader.price_feeds.set_index('timestamp')\n",
    "ENLoader.price_feeds['price'].plot(figsize=(16, 12))"
   ]
  },
  {
   "cell_type": "code",
   "execution_count": 33,
   "metadata": {},
   "outputs": [],
   "source": [
    "import matplotlib.pyplot as plt"
   ]
  },
  {
   "cell_type": "code",
   "execution_count": 35,
   "metadata": {},
   "outputs": [
    {
     "data": {
      "image/png": "[encoded data removed]",
      "text/plain": [
       "<Figure size 640x480 with 1 Axes>"
      ]
     },
     "metadata": {},
     "output_type": "display_data"
    }
   ],
   "source": [
    "fig = plt.figure()\n",
    "\n",
    "for feed in [CLLoader.price_feeds, ENLoader.price_feeds]:\n",
    "    plt.plot(feed['timestamp'], feed['price'])\n",
    "\n",
    "plt.xlim(0,18000)\n",
    "plt.ylim(0,30)\n",
    "plt.show()"
   ]
  },
  {
   "cell_type": "code",
   "execution_count": 36,
   "metadata": {},
   "outputs": [
    {
     "data": {
      "text/plain": [
       "[<matplotlib.lines.Line2D at 0x2a66eafa0>]"
      ]
     },
     "execution_count": 36,
     "metadata": {},
     "output_type": "execute_result"
    },
    {
     "data": {
      "image/png": "[encoded data removed]",
      "text/plain": [
       "<Figure size 640x480 with 1 Axes>"
      ]
     },
     "metadata": {},
     "output_type": "display_data"
    }
   ],
   "source": [
    "plt.plot(ENLoader.price_feeds['timestamp'], ENLoader.price_feeds['price'])"
   ]
  },
  {
   "cell_type": "code",
   "execution_count": null,
   "metadata": {},
   "outputs": [],
   "source": []
  },
  {
   "cell_type": "code",
   "execution_count": null,
   "metadata": {},
   "outputs": [],
   "source": []
  }
 ],
 "metadata": {
  "kernelspec": {
   "display_name": "Python 3.8.13 ('cairo_venv': venv)",
   "language": "python",
   "name": "python3"
  },
  "language_info": {
   "codemirror_mode": {
    "name": "ipython",
    "version": 3
   },
   "file_extension": ".py",
   "mimetype": "text/x-python",
   "name": "python",
   "nbconvert_exporter": "python",
   "pygments_lexer": "ipython3",
   "version": "3.8.13"
  },
  "orig_nbformat": 4,
  "vscode": {
   "interpreter": {
    "hash": "00e6eb6dd223f24124b3e0aab30d95fd2add79aced50af4b20174984c231568e"
   }
  }
 },
 "nbformat": 4,
 "nbformat_minor": 2
}
